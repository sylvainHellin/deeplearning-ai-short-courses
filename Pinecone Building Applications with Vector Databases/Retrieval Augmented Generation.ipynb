{
 "cells": [
  {
   "cell_type": "markdown",
   "metadata": {},
   "source": [
    "# Retrieval Augmented Generation (RAG)"
   ]
  },
  {
   "cell_type": "markdown",
   "metadata": {},
   "source": [
    "## Import libraries and secrets"
   ]
  },
  {
   "cell_type": "code",
   "execution_count": 6,
   "metadata": {},
   "outputs": [],
   "source": [
    "from openai import OpenAI\n",
    "from pinecone import Pinecone, ServerlessSpec\n",
    "from tqdm.auto import tqdm\n",
    "from dotenv import load_dotenv, find_dotenv\n",
    "import ast\n",
    "import os\n",
    "import pandas as pd\n",
    "\n",
    "_ = load_dotenv(find_dotenv(\"secrets.env\"))\n",
    "PINECONE_API_KEY = os.environ[\"PINECONE_API_KEY\"]\n",
    "OPENAI_API_KEY = os.environ[\"OPENAI_API_KEY\"]"
   ]
  },
  {
   "cell_type": "markdown",
   "metadata": {},
   "source": [
    "## Setup Pinecone"
   ]
  },
  {
   "cell_type": "code",
   "execution_count": 7,
   "metadata": {},
   "outputs": [],
   "source": [
    "pinecone = Pinecone(api_key=PINECONE_API_KEY)\n",
    "INDEX_NAME = \"deeplearning-ai-rag\"\n",
    "\n",
    "if INDEX_NAME in [index.name for index in pinecone.list_indexes()]:\n",
    "\tpass\n",
    "else:\n",
    "\tpinecone.create_index(\n",
    "\t\tname=INDEX_NAME,\n",
    "\t\tdimension=1536,\n",
    "\t\tmetric=\"cosine\",\n",
    "\t\tspec=ServerlessSpec(\n",
    "\t\t\tcloud=\"aws\",\n",
    "\t\t\tregion=\"us-west-2\", #TODO update when europe available\n",
    "\t\t),\n",
    "\t)\n",
    "\n",
    "index = pinecone.Index(INDEX_NAME)"
   ]
  },
  {
   "cell_type": "markdown",
   "metadata": {},
   "source": [
    "## Load the dataset"
   ]
  },
  {
   "cell_type": "code",
   "execution_count": 8,
   "metadata": {},
   "outputs": [
    {
     "data": {
      "text/html": [
       "<div>\n",
       "<style scoped>\n",
       "    .dataframe tbody tr th:only-of-type {\n",
       "        vertical-align: middle;\n",
       "    }\n",
       "\n",
       "    .dataframe tbody tr th {\n",
       "        vertical-align: top;\n",
       "    }\n",
       "\n",
       "    .dataframe thead th {\n",
       "        text-align: right;\n",
       "    }\n",
       "</style>\n",
       "<table border=\"1\" class=\"dataframe\">\n",
       "  <thead>\n",
       "    <tr style=\"text-align: right;\">\n",
       "      <th></th>\n",
       "      <th>id</th>\n",
       "      <th>metadata</th>\n",
       "      <th>values</th>\n",
       "    </tr>\n",
       "  </thead>\n",
       "  <tbody>\n",
       "    <tr>\n",
       "      <th>1</th>\n",
       "      <td>1-0</td>\n",
       "      <td>{'chunk': 0, 'source': 'https://simple.wikiped...</td>\n",
       "      <td>[-0.011254455894231796, -0.01698738895356655, ...</td>\n",
       "    </tr>\n",
       "  </tbody>\n",
       "</table>\n",
       "</div>"
      ],
      "text/plain": [
       "    id                                           metadata  \\\n",
       "1  1-0  {'chunk': 0, 'source': 'https://simple.wikiped...   \n",
       "\n",
       "                                              values  \n",
       "1  [-0.011254455894231796, -0.01698738895356655, ...  "
      ]
     },
     "execution_count": 8,
     "metadata": {},
     "output_type": "execute_result"
    }
   ],
   "source": [
    "# # download the dataset if necessary\n",
    "# !wget -q -O lesson2-wiki.csv.zip \"https://www.dropbox.com/scl/fi/yxzmsrv2sgl249zcspeqb/lesson2-wiki.csv.zip?rlkey=paehnoxjl3s5x53d1bedt4pmc&dl=0\"\n",
    "\n",
    "# !unzip lesson2-wiki.csv.zip\n",
    "\n",
    "# Load it\n",
    "CWD = os.getcwd()\n",
    "path = CWD + \"/files/wiki.csv\"\n",
    "MAX_NUM_ARTICLES = 10000 #TODO Play with this hyperparameter later on to see the influence on the quality of the results\n",
    "\n",
    "df = pd.read_csv(path, nrows=MAX_NUM_ARTICLES)\n",
    "df.head(1)"
   ]
  },
  {
   "cell_type": "markdown",
   "metadata": {},
   "source": [
    "## Prepare the embeddings"
   ]
  },
  {
   "cell_type": "code",
   "execution_count": 9,
   "metadata": {},
   "outputs": [
    {
     "data": {
      "application/vnd.jupyter.widget-view+json": {
       "model_id": "46eaefa9f74d419a93137c3e1cfa40a7",
       "version_major": 2,
       "version_minor": 0
      },
      "text/plain": [
       "  0%|          | 0/10000 [00:00<?, ?it/s]"
      ]
     },
     "metadata": {},
     "output_type": "display_data"
    }
   ],
   "source": [
    "def uploadDataToIndex(df, index):\n",
    "\n",
    "\t# prepare a list of embeddings to upload in the index\n",
    "\tpackage = []\n",
    "\n",
    "\t# populate the index\n",
    "\tfor i, row in tqdm(df.iterrows(), total=df.shape[0]): # iterate through the rows of the dataframe\n",
    "\t\t# fill up the package\n",
    "\t\tpackage.append({\n",
    "\t\t\t\"id\": row[\"id\"],\n",
    "\t\t\t\"values\": ast.literal_eval(row[\"values\"]),\n",
    "\t\t\t\"metadata\": ast.literal_eval(row[\"metadata\"]),\n",
    "\t\t})\n",
    "\n",
    "\t\t# once the package is big enough, upload it in the index\n",
    "\t\tif len(package) >= 250:\n",
    "\t\t\tindex.upsert(package) # upload the package\n",
    "\t\t\tpackage = [] # reset it\n",
    "\n",
    "\tif len(package) > 0:\n",
    "\t\tindex.upsert(package) # upload the package\n",
    "\t\tpackage = [] # reset it\n",
    "\n",
    "uploadDataToIndex(df=df, index=index)\n"
   ]
  },
  {
   "cell_type": "markdown",
   "metadata": {},
   "source": [
    "## Setup openAI"
   ]
  },
  {
   "cell_type": "code",
   "execution_count": 10,
   "metadata": {},
   "outputs": [],
   "source": [
    "# set up openAI client\n",
    "openAI = OpenAI(api_key=OPENAI_API_KEY) # openAI client to interact with it's API\n",
    "\n",
    "\n",
    "def getEmbeddings(query:str):\n",
    "\t'''\n",
    "\tReturn the embedding of the query.\n",
    "\t'''\n",
    "\tmodel = \"text-embedding-3-small\"\n",
    "\treturn openAI.embeddings.create(input=query, model=model).data[0].embedding\n"
   ]
  },
  {
   "cell_type": "markdown",
   "metadata": {},
   "source": [
    "## Retrieve context"
   ]
  },
  {
   "cell_type": "code",
   "execution_count": 11,
   "metadata": {},
   "outputs": [
    {
     "data": {
      "text/plain": [
       "['Observances\\n Earliest day that Martin Luther King, Jr. Day can fall, while January 21 is the latest, on the third Monday in January (United States)\\n Armed Forces Day (Nigeria)\\n Army Day (India)\\n Tree Planting Day (Egypt)\\n\\nDays of the year',\n",
       " \"Observances \\n Independence Day (Namibia)\\n Human Rights Day (South Africa)\\n Benito Juarez' birthday (Mexico)\\n Spring Equinox – Northern Hemisphere\\n Autumn Equinox – Southern Hemisphere\\n International Day against racial discrimination (after Sharpeville massacre)\\n World Poetry Day\\n Youth Day (Tunisia)\\n Harmony Day (Australia)\\n World Down syndrome Day\\n Mother's Day (Most of the Arab World)\\n World Puppetry Day\\n International Colour Day\\n International Day of Forests\\n\\nDays of the year\",\n",
       " \"Child abuse scandals\\nDuring John Paul's time as pope, the church was involved in a large number of claims about child sexual abuse by priests. There are many people who believe that the Church, and therefore the Pope, knew about these claims and tried to cover them up. For example, in 1996 the Irish bishops decided that priests suspected of child abuse must be reported to the police. The Vatican sent a letter to the bishops that they were not to report such cases. The letter was from future Pope Benedict XVI - whom John Paul II had asked to handle such cases. John Paul II is also claimed to have got a cardinal to send a thank you letter to a French bishop who had refused to report a priest to the police. In 2001 John Paul II sent out a special letter saying that the abuse of children by priests was a very serious crime, and should be strictly punished. Some Catholics wanted the process for making John Paul II a saint stopped, until there was an investigation into his role in keeping secret information about bad priests.\\n\\nRelated pages\\n List of popes\\n\\nReferences\\n\\nOther websites\\n\\n John Paul 2 & Friends, Quotes on Time!\\n John Paul II biography on the Vatican website\\n John Paul II at about.com\\n Pope John Paul II at the Catholic Hierarchy website\\n\\nPopes\\n1920 births\\n2005 deaths\\nNonviolence advocates\\nPeople with Parkinson's disease\\nPolish Roman Catholics\\nChristian saints\\nServants of God\\nTime People of the Year\\nCongressional Gold Medal recipients\"]"
      ]
     },
     "execution_count": 11,
     "metadata": {},
     "output_type": "execute_result"
    }
   ],
   "source": [
    "# retrieve context from index\n",
    "def retrieval(query):\n",
    "\t'''\n",
    "\treturn a list of 3 passages from index closest to the query\n",
    "\t'''\n",
    "\temd = getEmbeddings(query)\n",
    "\tresponse =  index.query(top_k=3, vector=emd, include_metadata=True)\n",
    "\tinfoList = []\n",
    "\tfor match in response.matches:\n",
    "\t\tinfoList.append(match.metadata[\"text\"])\n",
    "\treturn infoList\n",
    "\n",
    "# test\n",
    "query = \"what is the berlin wall?\"\n",
    "retrieval(query=query)"
   ]
  },
  {
   "cell_type": "markdown",
   "metadata": {},
   "source": [
    "## Structure the prompt"
   ]
  },
  {
   "cell_type": "code",
   "execution_count": 12,
   "metadata": {},
   "outputs": [],
   "source": [
    "def structurePrompt(query):\n",
    "\t'''\n",
    "\tStructure the prompt by adding context from our index to the query.\n",
    "\t'''\n",
    "\n",
    "\t# retrieve contect\n",
    "\tcontext = retrieval(query=query)\n",
    "\n",
    "\t# Structure the prompt\n",
    "\tpromptStart = \"\\\n",
    "\tAnswer the question based on the context below.\\n\\\n",
    "\t--------\\n\\\n",
    "\tContext:\\n\\\n",
    "\t--------\\n\"\n",
    "\n",
    "\tpromptEnd = f\"\\\n",
    "\t\\n--------\\n\\\n",
    "\tQuestion:\\n\\\n",
    "\t{query}\\n\\\n",
    "\t--------\\n\\\n",
    "\tAnswer:\\n\"\n",
    "\n",
    "\tprompt = promptStart + f\"\\n--------\\n\".join(context) + promptEnd\n",
    "\t\n",
    "\t# return the structured prompt\n",
    "\treturn prompt"
   ]
  },
  {
   "cell_type": "markdown",
   "metadata": {},
   "source": [
    "## RAG in action"
   ]
  },
  {
   "cell_type": "code",
   "execution_count": 14,
   "metadata": {},
   "outputs": [
    {
     "name": "stdout",
     "output_type": "stream",
     "text": [
      "\tAnswer the question based on the context below.\n",
      "\t--------\n",
      "\tContext:\n",
      "\t--------\n",
      "The team won their first trophy under Ferguson, the 1990 FA Cup, against Crystal Palace in the replay after a 3-3 draw. The next season, United won the UEFA Cup Winners Cup. In 1993, Manchester United won the very first Premier League. In 1999, Manchester United won the treble, made of the Premier League, FA Cup, and UEFA Champions League. Manchester United won the league 7 times again until Sir Alex Ferguson retired after the 2012–13 season. From the 2006–07 season to the 2008–09 season, Man United won the league 3 times in a row. The club also won its third UEFA Champions League in 2008 against Chelsea F.C., and almost won the next season as well but lost to FC Barcelona in the final. They won their first FIFA Club World Cup in December 2008.\n",
      "\n",
      "Recent history\n",
      "\n",
      "2013 - 2018 \n",
      "David Moyes was made manager in 2013. In April 2014, he was sacked by the club and club legend Ryan Giggs became player-manager (when a player is also the manager at the same time). They finished in 7th place. In 2014, Louis Van Gaal took over. He led United to a 4th-place finish. In 2015, after winning 3-0 against Sunderland, Man United reached 1st place for the first time in over two years. However, after losing 0-3 to Arsenal, they dropped to 3rd place. Van Gaal was sacked at the end of the season and José Mourinho replaced him. He then led the club to a League Cup and Europa League victory in the 2016–17 season. Mourinho was sacked in December 2018 because of poor results and replaced by Ole Gunnar Solskjaer.\n",
      "--------\n",
      "Platinum Jubilee \n",
      "The Queen's Platinum Jubilee was held in February 2022, meaning she has been Queen for 70 years. She would surpass Louis XIV of France as the longest-reigning monarch of a sovereign state in world history if she is still Queen on 27 May 2024.\n",
      "\n",
      "Titles and styles \n",
      "When someone is talking about the Queen, she is called \"The Queen\" or \"Her Majesty\". When someone is talking to her, she is called \"Your Majesty\". After the first time, the person talking to the Queen can say \"Ma'am\". It is pronounced \"Marm\". These are the titles that she has had:\n",
      " 21 April 1926 – 11 December 1936: Her Royal Highness Princess Elizabeth of York\n",
      " 11 December 1936 – 20 November 1947: Her Royal Highness The Princess Elizabeth\n",
      " 20 November 1947 – 6 February 1952: Her Royal Highness The Princess Elizabeth, Duchess of Edinburgh\n",
      " 6 February 1952 – present: Her Majesty The Queen\n",
      "\n",
      "The Queen has several coats of arms. In the UK, they are known as the \"Royal coat of arms of the United Kingdom\". Every British monarch has used these arms since the reign of Queen Victoria. The coats of arms used in Scotland and Canada are different to the arms used in England and Wales.\n",
      "\n",
      "Elizabeth II is:\n",
      " Queen of Antigua and Barbuda\n",
      " Queen of Australia\n",
      " Queen of The Bahamas\n",
      " Queen of Belize\n",
      " Queen of Canada\n",
      " Queen of Grenada\n",
      " Queen of Jamaica\n",
      " Queen of New Zealand\n",
      " Queen of Papua New Guinea\n",
      " Queen of Saint Kitts and Nevis\n",
      " Queen of Saint Lucia\n",
      " Queen of Saint Vincent and the Grenadines\n",
      " Queen of Solomon Islands\n",
      " Queen of Tuvalu\n",
      " Queen of the United Kingdom of Great Britain and Northern Ireland\n",
      "\n",
      "Children\n",
      "\n",
      "Ancestors\n",
      "\n",
      "References\n",
      "\n",
      "Notes\n",
      "\n",
      "Further reading\n",
      "\n",
      "Other websites\n",
      "--------\n",
      "1951  2000 \n",
      " 1953 – President Dwight D. Eisenhower refuses clemency appeal for Ethel and Julius Rosenberg\n",
      " 1953 – The Soviet Union breaks off diplomatic relations with Israel.\n",
      " 1961 – Trial of Adolf Eichmann begins in Jerusalem.\n",
      " 1963 – The Beatles record 10 tracks for their first album, Please Please Me.\n",
      " 1964 – At the Washington, DC Coliseum, The Beatles have their 1st live appearance in the United States.\n",
      " 1964 – Greeks and Turks begin fighting in Limassol, Cyprus.\n",
      " 1964 – The Republic of China (Taiwan) breaks off diplomatic relations with France.\n",
      " 1968 – Israeli-Jordanian border clashes.\n",
      " 1968 – Madison Square Garden III closes and Madison Square Garden IV opens in New York City.\n",
      " 1971 – US, UK, USSR, others sign Seabed Treaty outlawing nuclear weapons in international waters.\n",
      " 1973 – Vietnam War: First release of American prisoners of war from Vietnam takes place.\n",
      " 1975 - Margaret Thatcher becomes leader of the Conservative Party. This will lead to her becoming Prime Minister of the United Kingdom in 1979.\n",
      " 1978 – Censorship: China lifts a ban on works by Aristotle, Shakespeare and Dickens.\n",
      " 1979 – Ayatollah Ruhollah Khomeini seizes power in Iran.\n",
      " 1981 – 100,000 gallons (380 m3) of radioactive coolant leak into the containment building of TVA Sequoyah 1 nuclear plant in Tennessee, contaminating 8 workers.\n",
      " 1986 – Rights activist Anatoly Scharansky, released by the USSR, leaves the country.\n",
      " 1987 – Philippines constitution goes into effect.\n",
      " 1990 – James \"Buster\" Douglas KOs Mike Tyson to win heavyweight boxing crown.\t\n",
      "--------\n",
      "\tQuestion:\n",
      "\tWho proposed the theory of general relativity?\n",
      "\t--------\n",
      "\tAnswer:\n",
      "\n",
      "------------------------------\n",
      "Albert Einstein proposed the theory of general relativity.\n"
     ]
    }
   ],
   "source": [
    "# Put everything together to get a working RAG\n",
    "def RAG(query):\n",
    "\tprompt = structurePrompt(query=query)\n",
    "\tmessages = [{\n",
    "\t\t\"role\": \"user\",\n",
    "\t\t\"content\": prompt\n",
    "\t\t}]\n",
    "\tmodel = \"gpt-3.5-turbo-0125\"\n",
    "\tresponse = openAI.chat.completions.create(messages=messages, model=model, temperature=0, )\n",
    "\tresponseContent = response.choices[0].message.content\n",
    "\tresponseContent = responseContent if responseContent != None else \"\"\n",
    "\tprint(prompt)\n",
    "\tprint(\"-\"*30)\n",
    "\tprint(responseContent)\n",
    "\t# return responseContent\n",
    "\n",
    "# choose your query\n",
    "query = \"Who proposed the theory of general relativity?\"\n",
    "\n",
    "# see RAG in action!\n",
    "RAG(query=query)"
   ]
  },
  {
   "cell_type": "code",
   "execution_count": null,
   "metadata": {},
   "outputs": [],
   "source": []
  }
 ],
 "metadata": {
  "kernelspec": {
   "display_name": ".venvPinecone",
   "language": "python",
   "name": "python3"
  },
  "language_info": {
   "codemirror_mode": {
    "name": "ipython",
    "version": 3
   },
   "file_extension": ".py",
   "mimetype": "text/x-python",
   "name": "python",
   "nbconvert_exporter": "python",
   "pygments_lexer": "ipython3",
   "version": "3.10.7"
  }
 },
 "nbformat": 4,
 "nbformat_minor": 2
}

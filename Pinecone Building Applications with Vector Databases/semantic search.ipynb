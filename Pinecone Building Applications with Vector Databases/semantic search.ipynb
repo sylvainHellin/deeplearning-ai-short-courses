{
 "cells": [
  {
   "cell_type": "markdown",
   "metadata": {},
   "source": [
    "# Semantic Search"
   ]
  },
  {
   "cell_type": "markdown",
   "metadata": {},
   "source": [
    "## Import Libraries"
   ]
  },
  {
   "cell_type": "code",
   "execution_count": 1,
   "metadata": {},
   "outputs": [
    {
     "name": "stderr",
     "output_type": "stream",
     "text": [
      "/Users/sylvain/Library/Mobile Documents/com~apple~CloudDocs/Projects/deeplearning ai short courses/.venvPinecone/lib/python3.11/site-packages/tqdm/auto.py:21: TqdmWarning: IProgress not found. Please update jupyter and ipywidgets. See https://ipywidgets.readthedocs.io/en/stable/user_install.html\n",
      "  from .autonotebook import tqdm as notebook_tqdm\n"
     ]
    },
    {
     "name": "stdout",
     "output_type": "stream",
     "text": [
      "all packaged imported\n"
     ]
    }
   ],
   "source": [
    "import torch\n",
    "from datasets import load_dataset\n",
    "from dotenv import load_dotenv, find_dotenv\n",
    "from sentence_transformers import SentenceTransformer\n",
    "import os\n",
    "from pinecone import Pinecone, ServerlessSpec\n",
    "\n",
    "_ = load_dotenv(find_dotenv(\"secrets.env\", raise_error_if_not_found=True))\n",
    "\n",
    "ROOT_DIR = os.environ[\"ROOT_DIR\"]\n",
    "print(\"all packaged imported\")"
   ]
  },
  {
   "cell_type": "markdown",
   "metadata": {},
   "source": [
    "## Load and Transform the dataset"
   ]
  },
  {
   "cell_type": "code",
   "execution_count": null,
   "metadata": {},
   "outputs": [],
   "source": [
    "# Load the dataset\n",
    "with open(file=f\"{ROOT_DIR}/Pinecone Building Applications with Vector Databases/files/datasetText.txt\") as file:\n",
    "\tdataset = file.read().split(\"\\n\")[1:]\n",
    "# dataset[:20]\n",
    "\n",
    "# Extract the questions from the dataset\n",
    "import re\n",
    "questions = []\n",
    "for data in dataset:\n",
    "\tresult = re.findall(r\"'text': \\[([^\\]]+)\", data)\n",
    "\tresult = list(result)\n",
    "\tfor q in result:\n",
    "\t# \tq = q.split(\", \")\n",
    "\t\tpattern = r'([\\'\"])(.*?)\\1'\n",
    "\t\tq = re.findall(pattern, q)\n",
    "\t\tfor e in q:\n",
    "\t\t\tgarbage, question = e\n",
    "\t\t\tquestions.append(question)\n",
    "\n",
    "print(\"\\n\".join(questions[:5]))\n",
    "print(\"-\"*50)\n",
    "print(f\"Number of questions = {len(questions)}\")\n",
    "\n",
    "# Not exactly 100000 questions, but that should do it"
   ]
  },
  {
   "cell_type": "markdown",
   "metadata": {},
   "source": [
    "## Instantiate the Model"
   ]
  },
  {
   "cell_type": "code",
   "execution_count": null,
   "metadata": {},
   "outputs": [],
   "source": [
    "# See if a GPU is available\n",
    "if torch.cuda.is_available():\n",
    "    device = \"cude\"\n",
    "elif torch.backends.mps.is_available():\n",
    "    device = \"mps\"\n",
    "else:\n",
    "    device = \"cpu\"\n",
    "\n",
    "# Load the model on the GPU\n",
    "modelName = \"all-MiniLM-L6-v2\"\n",
    "model = SentenceTransformer(model_name_or_path=modelName, device=device)\n",
    "print(f\"Model: {modelName}\\nRunning on: {device}\")"
   ]
  },
  {
   "cell_type": "markdown",
   "metadata": {},
   "source": [
    "## Encoding Queries"
   ]
  },
  {
   "cell_type": "code",
   "execution_count": null,
   "metadata": {},
   "outputs": [],
   "source": [
    "query = \"what is the most populated city in the world?\"\n",
    "xq = model.encode(sentences=query)\n",
    "print(f\"Shape of xq: {xq.shape}\\nType of xq: {type(xq)}\")\n"
   ]
  },
  {
   "cell_type": "markdown",
   "metadata": {},
   "source": [
    "## Setting up Pinecone"
   ]
  },
  {
   "cell_type": "code",
   "execution_count": 2,
   "metadata": {},
   "outputs": [],
   "source": [
    "PINECONE_API_KEY = os.environ[\"PINECONE_API_KEY\"]\n",
    "pinecone = Pinecone(api_key=PINECONE_API_KEY)"
   ]
  },
  {
   "cell_type": "code",
   "execution_count": null,
   "metadata": {},
   "outputs": [],
   "source": []
  }
 ],
 "metadata": {
  "kernelspec": {
   "display_name": "dataScienceVenv",
   "language": "python",
   "name": "python3"
  },
  "language_info": {
   "codemirror_mode": {
    "name": "ipython",
    "version": 3
   },
   "file_extension": ".py",
   "mimetype": "text/x-python",
   "name": "python",
   "nbconvert_exporter": "python",
   "pygments_lexer": "ipython3",
   "version": "3.11.5"
  }
 },
 "nbformat": 4,
 "nbformat_minor": 2
}

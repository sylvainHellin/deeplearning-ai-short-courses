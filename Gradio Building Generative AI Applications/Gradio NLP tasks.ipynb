{
 "cells": [
  {
   "cell_type": "markdown",
   "metadata": {},
   "source": [
    "# NLP with a simple interface"
   ]
  },
  {
   "cell_type": "markdown",
   "metadata": {},
   "source": [
    "## Import needed libraries"
   ]
  },
  {
   "cell_type": "code",
   "execution_count": 78,
   "metadata": {},
   "outputs": [],
   "source": [
    "import os\n",
    "import io\n",
    "import openai\n",
    "import base64\n",
    "import requests\n",
    "import json\n",
    "from typing import List\n",
    "\n",
    "from IPython.display import Image, display, HTML\n",
    "from PIL import Image\n",
    "\n",
    "\n",
    "from dotenv import load_dotenv, find_dotenv\n",
    "_ = load_dotenv(find_dotenv(\"secrets.env\", raise_error_if_not_found=True))\n",
    "\n",
    "openai.api_key = os.environ[\"OPENAI_API_KEY\"]\n",
    "HF_API_TOKEN = os.environ[\"HF_API_TOKEN\"]"
   ]
  },
  {
   "cell_type": "markdown",
   "metadata": {},
   "source": [
    "## Create the summarization call"
   ]
  },
  {
   "cell_type": "code",
   "execution_count": 79,
   "metadata": {},
   "outputs": [
    {
     "name": "stdout",
     "output_type": "stream",
     "text": [
      "('\\n'\n",
      " '\\n'\n",
      " 'The Eiffel Tower is a 324 metre tall structure in Paris, making it the tallest structure in the '\n",
      " 'city. It has a square base measuring 125 metres on each side. At the time of its construction, '\n",
      " 'it was the tallest man-made structure in the world and held this title for 41 years until the '\n",
      " 'Chrysler Building was built in 1930. It was also the first structure to reach a height of 300 '\n",
      " 'metres. Since the addition of a broadcasting aerial in 1957, it is now taller than the Chrysler '\n",
      " 'Building by 5.2 metres. Excluding transmitters, it is the second tallest free-standing structure '\n",
      " 'in France after the Millau Viaduct.')\n"
     ]
    }
   ],
   "source": [
    "# make a call to the openAI API\n",
    "def get_completion(inputs:str):\n",
    "\tresponse = openai.completions.create(\n",
    "\t\tmodel=\"gpt-3.5-turbo-instruct\",\n",
    "\t\tprompt=f\"Summarize the following text:/n----/n{inputs}\",\n",
    "\t\tmax_tokens=1000\n",
    "\t)\n",
    "\treturn response.choices[0].text\n",
    "\n",
    "# a text to try it on\n",
    "text = '''The tower is 324 metres (1,063 ft) tall, about the same height\n",
    "        as an 81-storey building, and the tallest structure in Paris. \n",
    "        Its base is square, measuring 125 metres (410 ft) on each side. \n",
    "        During its construction, the Eiffel Tower surpassed the Washington \n",
    "        Monument to become the tallest man-made structure in the world,\n",
    "        a title it held for 41 years until the Chrysler Building\n",
    "        in New York City was finished in 1930. It was the first structure \n",
    "        to reach a height of 300 metres. Due to the addition of a broadcasting \n",
    "        aerial at the top of the tower in 1957, it is now taller than the \n",
    "        Chrysler Building by 5.2 metres (17 ft). Excluding transmitters, the \n",
    "        Eiffel Tower is the second tallest free-standing structure in France \n",
    "        after the Millau Viaduct.'''\n",
    "\n",
    "prt(get_completion(text))"
   ]
  },
  {
   "cell_type": "markdown",
   "metadata": {},
   "source": [
    "## Getting started with gradio gr.Interface"
   ]
  },
  {
   "cell_type": "code",
   "execution_count": 80,
   "metadata": {},
   "outputs": [
    {
     "name": "stdout",
     "output_type": "stream",
     "text": [
      "Running on local URL:  http://127.0.0.1:7861\n",
      "\n",
      "To create a public link, set `share=True` in `launch()`.\n"
     ]
    },
    {
     "data": {
      "text/html": [
       "<div><iframe src=\"http://127.0.0.1:7861/\" width=\"100%\" height=\"500\" allow=\"autoplay; camera; microphone; clipboard-read; clipboard-write;\" frameborder=\"0\" allowfullscreen></iframe></div>"
      ],
      "text/plain": [
       "<IPython.core.display.HTML object>"
      ]
     },
     "metadata": {},
     "output_type": "display_data"
    },
    {
     "name": "stdout",
     "output_type": "stream",
     "text": [
      "Closing server running on port: 7860\n",
      "Closing server running on port: 7860\n",
      "Closing server running on port: 7860\n",
      "Closing server running on port: 7860\n",
      "Closing server running on port: 7860\n",
      "Closing server running on port: 7860\n",
      "Closing server running on port: 7860\n",
      "Closing server running on port: 7861\n",
      "Closing server running on port: 7860\n",
      "Closing server running on port: 7860\n",
      "Closing server running on port: 7860\n",
      "Closing server running on port: 7860\n",
      "Closing server running on port: 7860\n",
      "Closing server running on port: 7860\n",
      "Closing server running on port: 7860\n",
      "Closing server running on port: 7860\n",
      "Closing server running on port: 7861\n"
     ]
    }
   ],
   "source": [
    "import gradio as gr\n",
    "def summarize(inputs:str):\n",
    "\treturn get_completion(inputs=inputs)\n",
    "\n",
    "# create the demo\n",
    "demo = gr.Interface(\n",
    "\tfn=summarize,\n",
    "\tinputs=gr.Textbox(\n",
    "\t\tplaceholder = \"your text here\", \n",
    "\t\tlabel=\"Text to summarize\",\n",
    "\t\tlines=6,\n",
    "\t\t),\n",
    "\toutputs=gr.Textbox(\n",
    "\t\tlabel=\"Summary\",\n",
    "\t\tlines=3,\n",
    "\t\t),\n",
    "\ttitle=\"Text summarizer\",\n",
    "\tdescription=\"This app summarize text using openAI `GPT-3.5-turbo-instruct`model\"\n",
    ")\n",
    "\n",
    "demo.launch(share=False)\n",
    "\n",
    "gr.close_all()\n"
   ]
  },
  {
   "cell_type": "markdown",
   "metadata": {},
   "source": [
    "## Building a Named Entity Recognition app"
   ]
  },
  {
   "cell_type": "markdown",
   "metadata": {},
   "source": [
    "### Using openAI GPT function calls"
   ]
  },
  {
   "cell_type": "code",
   "execution_count": 81,
   "metadata": {},
   "outputs": [],
   "source": [
    "# As we don't have access to the API call to bert-base-NER, let's try to recreate it using openAI function calls\n",
    "def ner(input:str):\n",
    "\t'''\n",
    "\treturn the names and type of entities in the given text as a list of dictionary\n",
    "\t'''\n",
    "\n",
    "\t# the schema for the funtion call\n",
    "\tner_gpt_functions = [\n",
    "\t\t{\n",
    "\t\t\t'name': 'ner-gpt',\n",
    "\t\t\t'description': 'predict the named entity label for each token in a text sequence, indicating the type of entity it represents.',\n",
    "\t\t\t'parameters': {\n",
    "\t\t\t\t'type': 'object',\n",
    "\t\t\t\t'properties': {\n",
    "\t\t\t\t\t'B-MISC': {\n",
    "\t\t\t\t\t\t'type': 'string',\n",
    "\t\t\t\t\t\t'description': \"Beginning of a miscellaneous entity right after another miscellaneous entity\"\n",
    "\t\t\t\t\t},\n",
    "\t\t\t\t\t'I-MISC': {\n",
    "\t\t\t\t\t\t'type': 'string',\n",
    "\t\t\t\t\t\t'description': 'Name of the miscellaneous entity'\n",
    "\t\t\t\t\t},\n",
    "\t\t\t\t\t'B-PER': {\n",
    "\t\t\t\t\t\t'type': 'string',\n",
    "\t\t\t\t\t\t'description': \"Beginning of a person's name right after another person's name\"\n",
    "\t\t\t\t\t},\n",
    "\t\t\t\t\t'I-PER': {\n",
    "\t\t\t\t\t\t'type': 'string',\n",
    "\t\t\t\t\t\t'description': 'Name of the person'\n",
    "\t\t\t\t\t},\n",
    "\t\t\t\t\t'B-ORG': {\n",
    "\t\t\t\t\t\t'type': 'string',\n",
    "\t\t\t\t\t\t'description': 'Beginning of an organization right after another organization'\n",
    "\t\t\t\t\t},\n",
    "\t\t\t\t\t'I-ORG': {\n",
    "\t\t\t\t\t\t'type': 'string',\n",
    "\t\t\t\t\t\t'description':'Name of the organization'\n",
    "\t\t\t\t\t},\n",
    "\t\t\t\t\t'B-LOC': {\n",
    "\t\t\t\t\t\t'type': 'string',\n",
    "\t\t\t\t\t\t'description': 'Beginning of location right after another location'\n",
    "\t\t\t\t\t},\n",
    "\t\t\t\t\t'I-LOC': {\n",
    "\t\t\t\t\t\t'type': 'string',\n",
    "\t\t\t\t\t\t'description':'Name of the location'\n",
    "\t\t\t\t\t},\n",
    "\t\t\t\t\t\n",
    "\t\t\t\t}\n",
    "\t\t\t}\n",
    "\t\t}\n",
    "\t]\n",
    "\n",
    "\t# call the function with the openAI API\n",
    "\tresponse = openai.chat.completions.create(\n",
    "    model=\"gpt-4\",\n",
    "    messages=[\n",
    "\t\t{\n",
    "\t\t\t\"role\": \"user\", \n",
    "\t\t\t\"content\": input\n",
    "\t\t\t}],\n",
    "    functions=ner_gpt_functions,\n",
    "    function_call=\"auto\",\n",
    "\t)\n",
    "\n",
    "\t# format the answer to match the expected structure\n",
    "\tjson_response = json.loads(response.choices[0].message.function_call.arguments)\n",
    "\tmydict = dict(json_response)\n",
    "\toutput: List(dict(str, str)) = []\n",
    "\tfor key, value in mydict.items():\n",
    "\t\toutput.append(\n",
    "\t\t\t{\n",
    "\t\t\t\t\"entities\": str(key),\n",
    "\t\t\t\t\"text\": str(value)\n",
    "\t\t\t}\n",
    "\t\t)\n",
    "\t\n",
    "\t# return the input text with the detected entities\t\n",
    "\treturn {\n",
    "\t\t\"text\":input,\n",
    "\t\t\"entities\": output\n",
    "\t\t}"
   ]
  },
  {
   "cell_type": "code",
   "execution_count": 82,
   "metadata": {},
   "outputs": [],
   "source": [
    "# # close all already open ports\n",
    "# gr.close_all()\n",
    "\n",
    "# # create the app\n",
    "# demo = gr.Interface(\n",
    "# \tfn=ner,\n",
    "# \tinputs=[gr.Textbox(label=\"Text to find entities\", lines = 2)],\n",
    "# \toutputs=[gr.HighlightedText(label=\"Text with highlighted entities\")],\n",
    "# \ttitle=\"Named Entities Recognition using GPT-4\",\n",
    "# \tdescription=\"Find entities in a text, using 'GPT-4' with function calls under the hood!\",\n",
    "# \tallow_flagging = \"never\",\n",
    "# \t# below some examples for the user to try to see what the app is doing\n",
    "# \texamples=[\"Hi, my name is Sylvain, I live in Germany and I work at Hines\",\n",
    "# \t\t   \"Wikipedia is a foundation that develop a community managed encyclopedie\"]\n",
    "# )\n",
    "\n",
    "# # launch the app!\n",
    "# demo.launch()"
   ]
  },
  {
   "cell_type": "markdown",
   "metadata": {},
   "source": [
    "Well it does not work very well. It seems that I need the start token and probably the end token for each word. It is probably doable with regEx, but I should try this late #TODO. Now, let's try with Bert-NER instead."
   ]
  },
  {
   "cell_type": "markdown",
   "metadata": {},
   "source": [
    "### Using BERT-BASE-NER via Hugging Face API"
   ]
  },
  {
   "cell_type": "code",
   "execution_count": 83,
   "metadata": {},
   "outputs": [
    {
     "name": "stdout",
     "output_type": "stream",
     "text": [
      "Running on local URL:  http://127.0.0.1:7860\n",
      "\n",
      "To create a public link, set `share=True` in `launch()`.\n"
     ]
    },
    {
     "data": {
      "text/html": [
       "<div><iframe src=\"http://127.0.0.1:7860/\" width=\"100%\" height=\"500\" allow=\"autoplay; camera; microphone; clipboard-read; clipboard-write;\" frameborder=\"0\" allowfullscreen></iframe></div>"
      ],
      "text/plain": [
       "<IPython.core.display.HTML object>"
      ]
     },
     "metadata": {},
     "output_type": "display_data"
    },
    {
     "data": {
      "text/plain": []
     },
     "execution_count": 83,
     "metadata": {},
     "output_type": "execute_result"
    }
   ],
   "source": [
    "def ner(input:str):\n",
    "\n",
    "\tAPI_URL = \"https://api-inference.huggingface.co/models/dslim/bert-base-NER\"\n",
    "\theaders = {\"Authorization\": f\"Bearer {HF_API_TOKEN}\"}\n",
    "\n",
    "\t# make the API call\n",
    "\tresponse = requests.post(API_URL, headers=headers, json=input)\n",
    "\toutput = response.json()\n",
    "\t\n",
    "\t# return the formated response\n",
    "\treturn {\n",
    "\t\t\"text\":input,\n",
    "\t\t\"entities\":output,\n",
    "\t}\n",
    "\n",
    "# define the app\n",
    "app = gr.Interface(\n",
    "\tfn=ner,\n",
    "\tinputs=gr.Textbox(label=\"write your text here\", lines=3),\n",
    "\toutputs=gr.HighlightedText(label=\"Text with highlighted entities\", combine_adjacent=True),\n",
    "\ttitle=\"Named Entity Recognition, by Sylvain Hellin\",\n",
    "\tdescription=\"Highlight the named entities (like persons, firms) from a given Text, using 'BERT-BASE-NER' under the hood\",\n",
    "\tallow_flagging=\"never\",\n",
    "\texamples=[\n",
    "\t\t\"Wikipedia is a free online encyclopedia that is collaboratively written and maintained by a community of volunteers, known as Wikipedians, through open collaboration and the use of a wiki-based editing system called MediaWiki.\",\n",
    "\t\t\"Alan Mathison Turing was an English mathematician, computer scientist, logician, cryptanalyst, and theoretical biologist. He was a key figure in breaking the Nazi Enigma code during World War II, which significantly contributed to the Allied victory.\"\n",
    "\t]\n",
    ")\n",
    "\n",
    "app.launch()\n"
   ]
  },
  {
   "cell_type": "code",
   "execution_count": 84,
   "metadata": {},
   "outputs": [
    {
     "name": "stdout",
     "output_type": "stream",
     "text": [
      "Closing server running on port: 7860\n",
      "Closing server running on port: 7860\n",
      "Closing server running on port: 7861\n",
      "Closing server running on port: 7860\n",
      "Closing server running on port: 7860\n",
      "Closing server running on port: 7860\n",
      "Closing server running on port: 7860\n",
      "Closing server running on port: 7860\n",
      "Closing server running on port: 7860\n",
      "Closing server running on port: 7860\n",
      "Closing server running on port: 7860\n",
      "Closing server running on port: 7860\n",
      "Closing server running on port: 7860\n",
      "Closing server running on port: 7860\n",
      "Closing server running on port: 7860\n",
      "Closing server running on port: 7861\n",
      "Closing server running on port: 7860\n",
      "Closing server running on port: 7860\n"
     ]
    }
   ],
   "source": [
    "gr.close_all()"
   ]
  }
 ],
 "metadata": {
  "kernelspec": {
   "display_name": "dataScienceVenv",
   "language": "python",
   "name": "python3"
  },
  "language_info": {
   "codemirror_mode": {
    "name": "ipython",
    "version": 3
   },
   "file_extension": ".py",
   "mimetype": "text/x-python",
   "name": "python",
   "nbconvert_exporter": "python",
   "pygments_lexer": "ipython3",
   "version": "3.11.7"
  }
 },
 "nbformat": 4,
 "nbformat_minor": 2
}
